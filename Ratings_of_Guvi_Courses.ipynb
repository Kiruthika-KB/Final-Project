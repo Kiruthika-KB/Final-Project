{
  "nbformat": 4,
  "nbformat_minor": 0,
  "metadata": {
    "colab": {
      "provenance": [],
      "gpuType": "V28",
      "authorship_tag": "ABX9TyMgBjoix9jwfT2AwCp2BsK3",
      "include_colab_link": true
    },
    "kernelspec": {
      "name": "python3",
      "display_name": "Python 3"
    },
    "language_info": {
      "name": "python"
    },
    "accelerator": "TPU"
  },
  "cells": [
    {
      "cell_type": "markdown",
      "metadata": {
        "id": "view-in-github",
        "colab_type": "text"
      },
      "source": [
        "<a href=\"https://colab.research.google.com/github/Kiruthika-KB/Final-Project/blob/main/Ratings_of_Guvi_Courses.ipynb\" target=\"_parent\"><img src=\"https://colab.research.google.com/assets/colab-badge.svg\" alt=\"Open In Colab\"/></a>"
      ]
    },
    {
      "cell_type": "code",
      "execution_count": null,
      "metadata": {
        "id": "32lH5mh49u9J"
      },
      "outputs": [],
      "source": [
        "import pandas as pd\n",
        "import numpy as np\n",
        "from sklearn.model_selection import train_test_split\n",
        "from sklearn.preprocessing import LabelEncoder, StandardScaler\n",
        "from sklearn.ensemble import RandomForestRegressor\n",
        "from sklearn.metrics import mean_squared_error, r2_score\n",
        "import matplotlib.pyplot as plt\n",
        "import seaborn as sns"
      ]
    },
    {
      "cell_type": "code",
      "source": [
        "data = pd.read_csv(\"guvi_courses_dataset.csv\")\n",
        "print(data.info())"
      ],
      "metadata": {
        "colab": {
          "base_uri": "https://localhost:8080/"
        },
        "id": "kHvsV0j0ih-I",
        "outputId": "d9a86b98-1a03-4215-ac42-7a74bd830c64"
      },
      "execution_count": null,
      "outputs": [
        {
          "output_type": "stream",
          "name": "stdout",
          "text": [
            "<class 'pandas.core.frame.DataFrame'>\n",
            "RangeIndex: 500 entries, 0 to 499\n",
            "Data columns (total 11 columns):\n",
            " #   Column                       Non-Null Count  Dtype  \n",
            "---  ------                       --------------  -----  \n",
            " 0   course_title                 500 non-null    object \n",
            " 1   url                          500 non-null    object \n",
            " 2   price (in 1000s)             500 non-null    float64\n",
            " 3   num_subscribers              500 non-null    int64  \n",
            " 4   num_reviews                  500 non-null    int64  \n",
            " 5   num_lectures                 500 non-null    int64  \n",
            " 6   level                        500 non-null    object \n",
            " 7   rating                       500 non-null    float64\n",
            " 8   content_duration (In Hours)  500 non-null    float64\n",
            " 9   published_timestamp          500 non-null    object \n",
            " 10  subject                      500 non-null    object \n",
            "dtypes: float64(3), int64(3), object(5)\n",
            "memory usage: 43.1+ KB\n",
            "None\n"
          ]
        }
      ]
    },
    {
      "cell_type": "code",
      "source": [
        "data.shape"
      ],
      "metadata": {
        "colab": {
          "base_uri": "https://localhost:8080/"
        },
        "id": "m2CTx1govO8W",
        "outputId": "46f3cd41-3077-48ca-aba3-13cc1a0c9a38"
      },
      "execution_count": null,
      "outputs": [
        {
          "output_type": "execute_result",
          "data": {
            "text/plain": [
              "(500, 11)"
            ]
          },
          "metadata": {},
          "execution_count": 34
        }
      ]
    },
    {
      "cell_type": "code",
      "source": [
        "data.head(2)"
      ],
      "metadata": {
        "colab": {
          "base_uri": "https://localhost:8080/",
          "height": 164
        },
        "id": "GPKglsLGipac",
        "outputId": "aa56ce20-0649-478c-fa26-81409cb1678a"
      },
      "execution_count": null,
      "outputs": [
        {
          "output_type": "execute_result",
          "data": {
            "text/plain": [
              "              course_title                                      url  \\\n",
              "0  Web Development Mastery  https://guvi.in/web-development-mastery   \n",
              "1          AI Fundamentals          https://guvi.in/ai-fundamentals   \n",
              "\n",
              "   price (in 1000s)  num_subscribers  num_reviews  num_lectures         level  \\\n",
              "0             41.94             2497          504            76      Advanced   \n",
              "1             48.07             3064         1292            85  Intermediate   \n",
              "\n",
              "   rating  content_duration (In Hours) published_timestamp       subject  \n",
              "0     3.8                         49.9    14-06-2022 14:10  Data Science  \n",
              "1     4.3                         42.9    03-05-2020 20:26    Blockchain  "
            ],
            "text/html": [
              "\n",
              "  <div id=\"df-5c5db553-b1fa-4abe-8783-bc72ff17da43\" class=\"colab-df-container\">\n",
              "    <div>\n",
              "<style scoped>\n",
              "    .dataframe tbody tr th:only-of-type {\n",
              "        vertical-align: middle;\n",
              "    }\n",
              "\n",
              "    .dataframe tbody tr th {\n",
              "        vertical-align: top;\n",
              "    }\n",
              "\n",
              "    .dataframe thead th {\n",
              "        text-align: right;\n",
              "    }\n",
              "</style>\n",
              "<table border=\"1\" class=\"dataframe\">\n",
              "  <thead>\n",
              "    <tr style=\"text-align: right;\">\n",
              "      <th></th>\n",
              "      <th>course_title</th>\n",
              "      <th>url</th>\n",
              "      <th>price (in 1000s)</th>\n",
              "      <th>num_subscribers</th>\n",
              "      <th>num_reviews</th>\n",
              "      <th>num_lectures</th>\n",
              "      <th>level</th>\n",
              "      <th>rating</th>\n",
              "      <th>content_duration (In Hours)</th>\n",
              "      <th>published_timestamp</th>\n",
              "      <th>subject</th>\n",
              "    </tr>\n",
              "  </thead>\n",
              "  <tbody>\n",
              "    <tr>\n",
              "      <th>0</th>\n",
              "      <td>Web Development Mastery</td>\n",
              "      <td>https://guvi.in/web-development-mastery</td>\n",
              "      <td>41.94</td>\n",
              "      <td>2497</td>\n",
              "      <td>504</td>\n",
              "      <td>76</td>\n",
              "      <td>Advanced</td>\n",
              "      <td>3.8</td>\n",
              "      <td>49.9</td>\n",
              "      <td>14-06-2022 14:10</td>\n",
              "      <td>Data Science</td>\n",
              "    </tr>\n",
              "    <tr>\n",
              "      <th>1</th>\n",
              "      <td>AI Fundamentals</td>\n",
              "      <td>https://guvi.in/ai-fundamentals</td>\n",
              "      <td>48.07</td>\n",
              "      <td>3064</td>\n",
              "      <td>1292</td>\n",
              "      <td>85</td>\n",
              "      <td>Intermediate</td>\n",
              "      <td>4.3</td>\n",
              "      <td>42.9</td>\n",
              "      <td>03-05-2020 20:26</td>\n",
              "      <td>Blockchain</td>\n",
              "    </tr>\n",
              "  </tbody>\n",
              "</table>\n",
              "</div>\n",
              "    <div class=\"colab-df-buttons\">\n",
              "\n",
              "  <div class=\"colab-df-container\">\n",
              "    <button class=\"colab-df-convert\" onclick=\"convertToInteractive('df-5c5db553-b1fa-4abe-8783-bc72ff17da43')\"\n",
              "            title=\"Convert this dataframe to an interactive table.\"\n",
              "            style=\"display:none;\">\n",
              "\n",
              "  <svg xmlns=\"http://www.w3.org/2000/svg\" height=\"24px\" viewBox=\"0 -960 960 960\">\n",
              "    <path d=\"M120-120v-720h720v720H120Zm60-500h600v-160H180v160Zm220 220h160v-160H400v160Zm0 220h160v-160H400v160ZM180-400h160v-160H180v160Zm440 0h160v-160H620v160ZM180-180h160v-160H180v160Zm440 0h160v-160H620v160Z\"/>\n",
              "  </svg>\n",
              "    </button>\n",
              "\n",
              "  <style>\n",
              "    .colab-df-container {\n",
              "      display:flex;\n",
              "      gap: 12px;\n",
              "    }\n",
              "\n",
              "    .colab-df-convert {\n",
              "      background-color: #E8F0FE;\n",
              "      border: none;\n",
              "      border-radius: 50%;\n",
              "      cursor: pointer;\n",
              "      display: none;\n",
              "      fill: #1967D2;\n",
              "      height: 32px;\n",
              "      padding: 0 0 0 0;\n",
              "      width: 32px;\n",
              "    }\n",
              "\n",
              "    .colab-df-convert:hover {\n",
              "      background-color: #E2EBFA;\n",
              "      box-shadow: 0px 1px 2px rgba(60, 64, 67, 0.3), 0px 1px 3px 1px rgba(60, 64, 67, 0.15);\n",
              "      fill: #174EA6;\n",
              "    }\n",
              "\n",
              "    .colab-df-buttons div {\n",
              "      margin-bottom: 4px;\n",
              "    }\n",
              "\n",
              "    [theme=dark] .colab-df-convert {\n",
              "      background-color: #3B4455;\n",
              "      fill: #D2E3FC;\n",
              "    }\n",
              "\n",
              "    [theme=dark] .colab-df-convert:hover {\n",
              "      background-color: #434B5C;\n",
              "      box-shadow: 0px 1px 3px 1px rgba(0, 0, 0, 0.15);\n",
              "      filter: drop-shadow(0px 1px 2px rgba(0, 0, 0, 0.3));\n",
              "      fill: #FFFFFF;\n",
              "    }\n",
              "  </style>\n",
              "\n",
              "    <script>\n",
              "      const buttonEl =\n",
              "        document.querySelector('#df-5c5db553-b1fa-4abe-8783-bc72ff17da43 button.colab-df-convert');\n",
              "      buttonEl.style.display =\n",
              "        google.colab.kernel.accessAllowed ? 'block' : 'none';\n",
              "\n",
              "      async function convertToInteractive(key) {\n",
              "        const element = document.querySelector('#df-5c5db553-b1fa-4abe-8783-bc72ff17da43');\n",
              "        const dataTable =\n",
              "          await google.colab.kernel.invokeFunction('convertToInteractive',\n",
              "                                                    [key], {});\n",
              "        if (!dataTable) return;\n",
              "\n",
              "        const docLinkHtml = 'Like what you see? Visit the ' +\n",
              "          '<a target=\"_blank\" href=https://colab.research.google.com/notebooks/data_table.ipynb>data table notebook</a>'\n",
              "          + ' to learn more about interactive tables.';\n",
              "        element.innerHTML = '';\n",
              "        dataTable['output_type'] = 'display_data';\n",
              "        await google.colab.output.renderOutput(dataTable, element);\n",
              "        const docLink = document.createElement('div');\n",
              "        docLink.innerHTML = docLinkHtml;\n",
              "        element.appendChild(docLink);\n",
              "      }\n",
              "    </script>\n",
              "  </div>\n",
              "\n",
              "\n",
              "<div id=\"df-62555f05-0867-4382-b555-50f05bada03d\">\n",
              "  <button class=\"colab-df-quickchart\" onclick=\"quickchart('df-62555f05-0867-4382-b555-50f05bada03d')\"\n",
              "            title=\"Suggest charts\"\n",
              "            style=\"display:none;\">\n",
              "\n",
              "<svg xmlns=\"http://www.w3.org/2000/svg\" height=\"24px\"viewBox=\"0 0 24 24\"\n",
              "     width=\"24px\">\n",
              "    <g>\n",
              "        <path d=\"M19 3H5c-1.1 0-2 .9-2 2v14c0 1.1.9 2 2 2h14c1.1 0 2-.9 2-2V5c0-1.1-.9-2-2-2zM9 17H7v-7h2v7zm4 0h-2V7h2v10zm4 0h-2v-4h2v4z\"/>\n",
              "    </g>\n",
              "</svg>\n",
              "  </button>\n",
              "\n",
              "<style>\n",
              "  .colab-df-quickchart {\n",
              "      --bg-color: #E8F0FE;\n",
              "      --fill-color: #1967D2;\n",
              "      --hover-bg-color: #E2EBFA;\n",
              "      --hover-fill-color: #174EA6;\n",
              "      --disabled-fill-color: #AAA;\n",
              "      --disabled-bg-color: #DDD;\n",
              "  }\n",
              "\n",
              "  [theme=dark] .colab-df-quickchart {\n",
              "      --bg-color: #3B4455;\n",
              "      --fill-color: #D2E3FC;\n",
              "      --hover-bg-color: #434B5C;\n",
              "      --hover-fill-color: #FFFFFF;\n",
              "      --disabled-bg-color: #3B4455;\n",
              "      --disabled-fill-color: #666;\n",
              "  }\n",
              "\n",
              "  .colab-df-quickchart {\n",
              "    background-color: var(--bg-color);\n",
              "    border: none;\n",
              "    border-radius: 50%;\n",
              "    cursor: pointer;\n",
              "    display: none;\n",
              "    fill: var(--fill-color);\n",
              "    height: 32px;\n",
              "    padding: 0;\n",
              "    width: 32px;\n",
              "  }\n",
              "\n",
              "  .colab-df-quickchart:hover {\n",
              "    background-color: var(--hover-bg-color);\n",
              "    box-shadow: 0 1px 2px rgba(60, 64, 67, 0.3), 0 1px 3px 1px rgba(60, 64, 67, 0.15);\n",
              "    fill: var(--button-hover-fill-color);\n",
              "  }\n",
              "\n",
              "  .colab-df-quickchart-complete:disabled,\n",
              "  .colab-df-quickchart-complete:disabled:hover {\n",
              "    background-color: var(--disabled-bg-color);\n",
              "    fill: var(--disabled-fill-color);\n",
              "    box-shadow: none;\n",
              "  }\n",
              "\n",
              "  .colab-df-spinner {\n",
              "    border: 2px solid var(--fill-color);\n",
              "    border-color: transparent;\n",
              "    border-bottom-color: var(--fill-color);\n",
              "    animation:\n",
              "      spin 1s steps(1) infinite;\n",
              "  }\n",
              "\n",
              "  @keyframes spin {\n",
              "    0% {\n",
              "      border-color: transparent;\n",
              "      border-bottom-color: var(--fill-color);\n",
              "      border-left-color: var(--fill-color);\n",
              "    }\n",
              "    20% {\n",
              "      border-color: transparent;\n",
              "      border-left-color: var(--fill-color);\n",
              "      border-top-color: var(--fill-color);\n",
              "    }\n",
              "    30% {\n",
              "      border-color: transparent;\n",
              "      border-left-color: var(--fill-color);\n",
              "      border-top-color: var(--fill-color);\n",
              "      border-right-color: var(--fill-color);\n",
              "    }\n",
              "    40% {\n",
              "      border-color: transparent;\n",
              "      border-right-color: var(--fill-color);\n",
              "      border-top-color: var(--fill-color);\n",
              "    }\n",
              "    60% {\n",
              "      border-color: transparent;\n",
              "      border-right-color: var(--fill-color);\n",
              "    }\n",
              "    80% {\n",
              "      border-color: transparent;\n",
              "      border-right-color: var(--fill-color);\n",
              "      border-bottom-color: var(--fill-color);\n",
              "    }\n",
              "    90% {\n",
              "      border-color: transparent;\n",
              "      border-bottom-color: var(--fill-color);\n",
              "    }\n",
              "  }\n",
              "</style>\n",
              "\n",
              "  <script>\n",
              "    async function quickchart(key) {\n",
              "      const quickchartButtonEl =\n",
              "        document.querySelector('#' + key + ' button');\n",
              "      quickchartButtonEl.disabled = true;  // To prevent multiple clicks.\n",
              "      quickchartButtonEl.classList.add('colab-df-spinner');\n",
              "      try {\n",
              "        const charts = await google.colab.kernel.invokeFunction(\n",
              "            'suggestCharts', [key], {});\n",
              "      } catch (error) {\n",
              "        console.error('Error during call to suggestCharts:', error);\n",
              "      }\n",
              "      quickchartButtonEl.classList.remove('colab-df-spinner');\n",
              "      quickchartButtonEl.classList.add('colab-df-quickchart-complete');\n",
              "    }\n",
              "    (() => {\n",
              "      let quickchartButtonEl =\n",
              "        document.querySelector('#df-62555f05-0867-4382-b555-50f05bada03d button');\n",
              "      quickchartButtonEl.style.display =\n",
              "        google.colab.kernel.accessAllowed ? 'block' : 'none';\n",
              "    })();\n",
              "  </script>\n",
              "</div>\n",
              "\n",
              "    </div>\n",
              "  </div>\n"
            ],
            "application/vnd.google.colaboratory.intrinsic+json": {
              "type": "dataframe",
              "variable_name": "data",
              "summary": "{\n  \"name\": \"data\",\n  \"rows\": 500,\n  \"fields\": [\n    {\n      \"column\": \"course_title\",\n      \"properties\": {\n        \"dtype\": \"category\",\n        \"num_unique_values\": 12,\n        \"samples\": [\n          \"Python for Beginners\",\n          \"DevOps Crash Course\",\n          \"Web Development Mastery\"\n        ],\n        \"semantic_type\": \"\",\n        \"description\": \"\"\n      }\n    },\n    {\n      \"column\": \"url\",\n      \"properties\": {\n        \"dtype\": \"category\",\n        \"num_unique_values\": 12,\n        \"samples\": [\n          \"https://guvi.in/python-for-beginners\",\n          \"https://guvi.in/devops-crash-course\",\n          \"https://guvi.in/web-development-mastery\"\n        ],\n        \"semantic_type\": \"\",\n        \"description\": \"\"\n      }\n    },\n    {\n      \"column\": \"price (in 1000s)\",\n      \"properties\": {\n        \"dtype\": \"number\",\n        \"std\": 25.125467777425936,\n        \"min\": 10.09,\n        \"max\": 99.54,\n        \"num_unique_values\": 488,\n        \"samples\": [\n          94.76,\n          38.34,\n          51.1\n        ],\n        \"semantic_type\": \"\",\n        \"description\": \"\"\n      }\n    },\n    {\n      \"column\": \"num_subscribers\",\n      \"properties\": {\n        \"dtype\": \"number\",\n        \"std\": 1392,\n        \"min\": 103,\n        \"max\": 4987,\n        \"num_unique_values\": 480,\n        \"samples\": [\n          207,\n          1327,\n          1634\n        ],\n        \"semantic_type\": \"\",\n        \"description\": \"\"\n      }\n    },\n    {\n      \"column\": \"num_reviews\",\n      \"properties\": {\n        \"dtype\": \"number\",\n        \"std\": 536,\n        \"min\": 10,\n        \"max\": 2408,\n        \"num_unique_values\": 413,\n        \"samples\": [\n          430,\n          655,\n          279\n        ],\n        \"semantic_type\": \"\",\n        \"description\": \"\"\n      }\n    },\n    {\n      \"column\": \"num_lectures\",\n      \"properties\": {\n        \"dtype\": \"number\",\n        \"std\": 26,\n        \"min\": 10,\n        \"max\": 100,\n        \"num_unique_values\": 91,\n        \"samples\": [\n          88,\n          18,\n          69\n        ],\n        \"semantic_type\": \"\",\n        \"description\": \"\"\n      }\n    },\n    {\n      \"column\": \"level\",\n      \"properties\": {\n        \"dtype\": \"category\",\n        \"num_unique_values\": 3,\n        \"samples\": [\n          \"Advanced\",\n          \"Intermediate\",\n          \"Beginner\"\n        ],\n        \"semantic_type\": \"\",\n        \"description\": \"\"\n      }\n    },\n    {\n      \"column\": \"rating\",\n      \"properties\": {\n        \"dtype\": \"number\",\n        \"std\": 0.5950056330883041,\n        \"min\": 3.0,\n        \"max\": 5.0,\n        \"num_unique_values\": 21,\n        \"samples\": [\n          3.8,\n          3.7,\n          4.4\n        ],\n        \"semantic_type\": \"\",\n        \"description\": \"\"\n      }\n    },\n    {\n      \"column\": \"content_duration (In Hours)\",\n      \"properties\": {\n        \"dtype\": \"number\",\n        \"std\": 13.829254941046134,\n        \"min\": 2.0,\n        \"max\": 49.9,\n        \"num_unique_values\": 306,\n        \"samples\": [\n          11.4,\n          25.1,\n          41.0\n        ],\n        \"semantic_type\": \"\",\n        \"description\": \"\"\n      }\n    },\n    {\n      \"column\": \"published_timestamp\",\n      \"properties\": {\n        \"dtype\": \"object\",\n        \"num_unique_values\": 500,\n        \"samples\": [\n          \"21-03-2020 02:50\",\n          \"07-02-2022 20:04\",\n          \"03-03-2021 20:08\"\n        ],\n        \"semantic_type\": \"\",\n        \"description\": \"\"\n      }\n    },\n    {\n      \"column\": \"subject\",\n      \"properties\": {\n        \"dtype\": \"category\",\n        \"num_unique_values\": 11,\n        \"samples\": [\n          \"Cloud Computing\",\n          \"Data Science\",\n          \"Web Development\"\n        ],\n        \"semantic_type\": \"\",\n        \"description\": \"\"\n      }\n    }\n  ]\n}"
            }
          },
          "metadata": {},
          "execution_count": 35
        }
      ]
    },
    {
      "cell_type": "code",
      "source": [
        "data['course_title'].unique()"
      ],
      "metadata": {
        "colab": {
          "base_uri": "https://localhost:8080/"
        },
        "id": "cydga96iotPJ",
        "outputId": "d0d5b879-909e-4c93-b9f5-edc8f5ab8399"
      },
      "execution_count": null,
      "outputs": [
        {
          "output_type": "execute_result",
          "data": {
            "text/plain": [
              "array(['Web Development Mastery', 'AI Fundamentals',\n",
              "       'JavaScript Essentials', 'Cloud Computing Basics',\n",
              "       'Game Development with Unity', 'Big Data Analytics',\n",
              "       'Data Science Bootcamp', 'Blockchain Essentials',\n",
              "       'Machine Learning Advanced', 'DevOps Crash Course',\n",
              "       'Python for Beginners', 'Cybersecurity 101'], dtype=object)"
            ]
          },
          "metadata": {},
          "execution_count": 36
        }
      ]
    },
    {
      "cell_type": "code",
      "source": [
        "data.columns"
      ],
      "metadata": {
        "colab": {
          "base_uri": "https://localhost:8080/"
        },
        "id": "7HL4xlr5nluM",
        "outputId": "f6321d41-6940-4efc-de45-d329918bd543"
      },
      "execution_count": null,
      "outputs": [
        {
          "output_type": "execute_result",
          "data": {
            "text/plain": [
              "Index(['course_title', 'url', 'price (in 1000s)', 'num_subscribers',\n",
              "       'num_reviews', 'num_lectures', 'level', 'rating',\n",
              "       'content_duration (In Hours)', 'published_timestamp', 'subject'],\n",
              "      dtype='object')"
            ]
          },
          "metadata": {},
          "execution_count": 37
        }
      ]
    },
    {
      "cell_type": "code",
      "source": [
        "# Extract year and month from published_timestamp\n",
        "data['published_year'] = pd.to_datetime(data['published_timestamp']).dt.year\n",
        "data['published_month'] = pd.to_datetime(data['published_timestamp']).dt.month\n"
      ],
      "metadata": {
        "colab": {
          "base_uri": "https://localhost:8080/"
        },
        "id": "IbrP_eu8p9gX",
        "outputId": "c3baffa0-46c6-436f-8dbc-b52e7f9bed92"
      },
      "execution_count": null,
      "outputs": [
        {
          "output_type": "stream",
          "name": "stderr",
          "text": [
            "<ipython-input-38-961f8dcc2ffb>:2: UserWarning: Parsing dates in %d-%m-%Y %H:%M format when dayfirst=False (the default) was specified. Pass `dayfirst=True` or specify a format to silence this warning.\n",
            "  data['published_year'] = pd.to_datetime(data['published_timestamp']).dt.year\n",
            "<ipython-input-38-961f8dcc2ffb>:3: UserWarning: Parsing dates in %d-%m-%Y %H:%M format when dayfirst=False (the default) was specified. Pass `dayfirst=True` or specify a format to silence this warning.\n",
            "  data['published_month'] = pd.to_datetime(data['published_timestamp']).dt.month\n"
          ]
        }
      ]
    },
    {
      "cell_type": "code",
      "source": [
        "def normalize_rating(rating):\n",
        "    if rating <= 2.0:\n",
        "        return 1\n",
        "    elif rating <4.0:\n",
        "        return 3\n",
        "    else:\n",
        "        return 5\n",
        "\n",
        "rate = data['rating']\n",
        "normalized_ratings = np.array([normalize_rating(r) for r in rate])\n",
        "\n",
        "# Display the normalized ratings\n",
        "print(normalized_ratings)"
      ],
      "metadata": {
        "colab": {
          "base_uri": "https://localhost:8080/"
        },
        "id": "15S-ze8A0DX5",
        "outputId": "1fe2fb73-6e92-4805-8322-6e24c19e6802"
      },
      "execution_count": null,
      "outputs": [
        {
          "output_type": "stream",
          "name": "stdout",
          "text": [
            "[3 5 5 3 5 5 5 3 5 3 3 5 3 3 5 5 3 3 5 5 5 5 5 5 3 5 3 5 5 3 5 5 5 3 5 3 3\n",
            " 3 3 5 3 3 5 3 3 5 5 3 3 5 5 3 5 5 3 3 3 5 3 3 3 3 5 5 3 5 5 3 3 5 5 5 3 3\n",
            " 3 5 3 5 5 3 5 3 3 5 3 3 5 5 3 5 3 3 5 5 3 3 3 5 5 3 5 5 5 3 3 5 3 3 5 3 3\n",
            " 3 3 5 5 3 3 3 5 3 3 5 3 5 3 3 5 5 5 5 3 5 5 5 3 3 5 5 3 5 3 5 5 3 3 5 3 3\n",
            " 5 5 3 3 5 5 5 5 3 3 5 3 3 3 3 5 3 3 5 5 3 3 3 3 5 3 3 3 3 5 3 5 5 5 5 5 3\n",
            " 3 3 3 3 5 5 3 3 3 3 5 3 5 5 5 5 3 5 5 3 5 5 5 5 3 5 3 3 5 5 5 3 3 5 5 3 3\n",
            " 5 5 5 3 3 5 5 3 5 5 3 3 3 3 3 5 5 5 3 3 5 5 3 3 3 5 3 5 5 5 3 3 5 3 5 5 3\n",
            " 5 5 3 3 5 5 5 5 5 5 5 3 5 5 3 5 3 5 3 3 3 3 3 5 3 3 5 5 5 3 5 3 5 3 5 5 5\n",
            " 5 5 5 3 5 3 5 5 5 5 3 3 5 5 3 3 5 5 5 5 3 5 3 3 5 5 3 3 3 5 5 5 3 5 3 5 3\n",
            " 3 5 5 5 5 3 3 5 5 3 3 5 5 5 3 3 3 5 5 3 5 5 3 5 5 5 3 5 3 5 5 3 5 3 3 5 3\n",
            " 3 5 5 3 3 3 5 3 3 3 3 5 5 5 5 5 5 3 5 3 3 5 3 5 5 3 3 3 5 5 5 3 3 3 3 3 5\n",
            " 3 3 5 5 3 5 3 3 3 5 5 5 3 3 3 5 3 5 5 5 3 5 5 5 5 5 5 5 3 5 5 3 3 3 5 5 5\n",
            " 5 3 5 3 3 5 5 3 3 5 3 5 5 5 5 5 5 5 3 5 5 3 5 5 5 5 5 3 3 5 5 3 3 5 3 5 3\n",
            " 3 5 3 3 5 5 5 3 5 3 3 3 5 5 5 5 5 5 3]\n"
          ]
        }
      ]
    },
    {
      "cell_type": "code",
      "source": [
        "data['rating']=normalized_ratings"
      ],
      "metadata": {
        "id": "Tf_uDmvn1TZt"
      },
      "execution_count": null,
      "outputs": []
    },
    {
      "cell_type": "code",
      "source": [
        "# One-hot encoding for categorical variables\n",
        "#data = pd.get_dummies(data, columns=['level', 'subject'], drop_first=True)\n",
        "\n",
        "# Define features and target\n",
        "X = data.drop(columns=['rating', 'course_title', 'url', 'published_timestamp','level','subject'])\n",
        "y = data['rating']\n",
        "\n",
        "# Split into training and test sets\n",
        "X_train, X_test, y_train, y_test = train_test_split(X, y, test_size=0.2, random_state=20)\n",
        "\n",
        "# Scale numeric features\n",
        "scaler = StandardScaler()\n",
        "X_train = scaler.fit_transform(X_train)\n",
        "X_test = scaler.transform(X_test)\n"
      ],
      "metadata": {
        "id": "O1_4p3YEprPF"
      },
      "execution_count": null,
      "outputs": []
    },
    {
      "cell_type": "code",
      "source": [
        "from sklearn.linear_model import LinearRegression\n",
        "\n",
        "model = LinearRegression()"
      ],
      "metadata": {
        "id": "y1nzvX2FyFid"
      },
      "execution_count": null,
      "outputs": []
    },
    {
      "cell_type": "code",
      "source": [
        "data['rating'].unique()"
      ],
      "metadata": {
        "colab": {
          "base_uri": "https://localhost:8080/"
        },
        "id": "mM2x7w-CzO24",
        "outputId": "dbb6ecf8-094d-43d4-c2c2-010e2157a59e"
      },
      "execution_count": null,
      "outputs": [
        {
          "output_type": "execute_result",
          "data": {
            "text/plain": [
              "array([3, 5])"
            ]
          },
          "metadata": {},
          "execution_count": 11
        }
      ]
    },
    {
      "cell_type": "code",
      "source": [
        "model.fit(X_train, y_train)\n",
        "\n",
        "# Predict on test set\n",
        "y_pred = model.predict(X_test)\n",
        "\n",
        "# Evaluate the model\n",
        "mse = mean_squared_error(y_test, y_pred)\n",
        "r2 = r2_score(y_test, y_pred)\n",
        "\n",
        "print(f\"Mean Squared Error: {mse:.2f}\")\n",
        "print(f\"R² Score: {r2:.2f}\")"
      ],
      "metadata": {
        "colab": {
          "base_uri": "https://localhost:8080/"
        },
        "id": "0CottJavqrVF",
        "outputId": "191b41a8-5658-42e1-94b4-d930f42144c0"
      },
      "execution_count": null,
      "outputs": [
        {
          "output_type": "stream",
          "name": "stdout",
          "text": [
            "Mean Squared Error: 1.08\n",
            "R² Score: -0.08\n"
          ]
        }
      ]
    },
    {
      "cell_type": "code",
      "source": [],
      "metadata": {
        "id": "Mm6ml0_pyD4d"
      },
      "execution_count": null,
      "outputs": []
    },
    {
      "cell_type": "code",
      "source": [
        "numeric_data = data.select_dtypes(include=['float64', 'int64'])\n",
        "correlation_matrix_numeric = numeric_data.corr()\n",
        "\n",
        "# Set up the matplotlib figure\n",
        "plt.figure(figsize=(12, 8))\n",
        "\n",
        "# Create the heatmap\n",
        "sns.heatmap(\n",
        "    correlation_matrix_numeric,\n",
        "    annot=True,  # Display the correlation values in the heatmap\n",
        "    cmap=\"coolwarm\",  # Color map for better visualization\n",
        "    fmt=\".2f\",  # Format for displaying correlation values\n",
        "    cbar=True,  # Display the color bar\n",
        "    linewidths=0.5,  # Add lines between cells for clarity\n",
        "    square=True  # Ensure the heatmap is square-shaped\n",
        ")\n",
        "\n",
        "# Add a title to the heatmap\n",
        "plt.title('Correlation Matrix for Numeric Features', fontsize=16)\n",
        "\n",
        "# Adjust layout for better spacing\n",
        "plt.tight_layout()\n",
        "\n",
        "# Display the heatmap\n",
        "plt.show()\n"
      ],
      "metadata": {
        "colab": {
          "base_uri": "https://localhost:8080/",
          "height": 807
        },
        "id": "ku_FXDaVrTjj",
        "outputId": "69aa4bd1-2bb8-40f9-a5ec-896229e49c8d"
      },
      "execution_count": null,
      "outputs": [
        {
          "output_type": "display_data",
          "data": {
            "text/plain": [
              "<Figure size 1200x800 with 2 Axes>"
            ],
            "image/png": "[encoded data removed]"
          },
          "metadata": {}
        }
      ]
    }
  ]
}